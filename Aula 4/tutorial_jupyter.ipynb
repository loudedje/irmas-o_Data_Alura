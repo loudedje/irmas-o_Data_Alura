{
 "cells": [
  {
   "cell_type": "markdown",
   "id": "6d1f238f",
   "metadata": {},
   "source": [
    "# Como Rodar Código no Jupyter Notebook\n",
    "\n",
    "Este tutorial mostra como configurar e usar o Jupyter Notebook para executar código Python interativamente."
   ]
  },
  {
   "cell_type": "markdown",
   "id": "73fb1715",
   "metadata": {},
   "source": [
    "## 1. Instalar Jupyter Notebook\n",
    "\n",
    "Você pode instalar o Jupyter Notebook usando pip ou conda:"
   ]
  },
  {
   "cell_type": "code",
   "execution_count": null,
   "id": "1c7043f6",
   "metadata": {},
   "outputs": [],
   "source": [
    "# Instalar usando pip\n",
    "!pip install jupyter\n",
    "\n",
    "# Ou instalar usando conda\n",
    "# !conda install jupyter"
   ]
  },
  {
   "cell_type": "markdown",
   "id": "39de0eda",
   "metadata": {},
   "source": [
    "## 2. Como Executar Código\n",
    "\n",
    "Para executar uma célula de código no Jupyter:\n",
    "- **Shift + Enter**: Executa a célula e move para a próxima\n",
    "- **Ctrl + Enter**: Executa a célula e permanece na mesma\n",
    "- **Alt + Enter**: Executa a célula e cria uma nova célula abaixo"
   ]
  },
  {
   "cell_type": "code",
   "execution_count": 1,
   "id": "031d212c",
   "metadata": {},
   "outputs": [
    {
     "name": "stdout",
     "output_type": "stream",
     "text": [
      "Olá, Jupyter!\n",
      "2 + 3 * 4 = 14\n",
      "Frutas: ['maçã', 'banana', 'laranja']\n"
     ]
    }
   ],
   "source": [
    "# Exemplo básico - Execute esta célula com Shift+Enter\n",
    "print(\"Olá, Jupyter!\")\n",
    "\n",
    "# Operações matemáticas\n",
    "resultado = 2 + 3 * 4\n",
    "print(f\"2 + 3 * 4 = {resultado}\")\n",
    "\n",
    "# Criando uma lista\n",
    "frutas = [\"maçã\", \"banana\", \"laranja\"]\n",
    "print(f\"Frutas: {frutas}\")"
   ]
  },
  {
   "cell_type": "markdown",
   "id": "e550bf37",
   "metadata": {},
   "source": [
    "## 3. Trabalhando com Variáveis e Bibliotecas\n",
    "\n",
    "No Jupyter, as variáveis permanecem na memória entre as execuções das células:"
   ]
  },
  {
   "cell_type": "code",
   "execution_count": null,
   "id": "f3f811c1",
   "metadata": {},
   "outputs": [],
   "source": [
    "# Importando bibliotecas\n",
    "import datetime\n",
    "import random\n",
    "\n",
    "# Criando variáveis que ficarão disponíveis para outras células\n",
    "nome = \"Estudante\"\n",
    "idade = 25\n",
    "\n",
    "print(f\"Olá, {nome}! Você tem {idade} anos.\")\n",
    "print(f\"Data e hora atual: {datetime.datetime.now()}\")\n",
    "print(f\"Número aleatório: {random.randint(1, 100)}\")"
   ]
  },
  {
   "cell_type": "code",
   "execution_count": null,
   "id": "65695100",
   "metadata": {},
   "outputs": [],
   "source": [
    "# Esta célula usa as variáveis criadas na célula anterior\n",
    "print(f\"A variável 'nome' contém: {nome}\")\n",
    "print(f\"A variável 'idade' contém: {idade}\")\n",
    "\n",
    "# Modificando as variáveis\n",
    "nome = nome + \" da Imersão Alura\"\n",
    "idade += 1\n",
    "\n",
    "print(f\"Valores atualizados: {nome}, {idade} anos\")"
   ]
  },
  {
   "cell_type": "markdown",
   "id": "5cb16cf9",
   "metadata": {},
   "source": [
    "## 4. Dicas Importantes\n",
    "\n",
    "### Como usar seu código do app.py no Jupyter:\n",
    "\n",
    "1. **Copie e cole o código** do seu `app.py` em células do notebook\n",
    "2. **Execute célula por célula** para testar partes específicas\n",
    "3. **Use `%run app.py`** para executar o arquivo inteiro\n",
    "4. **Instale pacotes** se necessário com `!pip install nome_do_pacote`"
   ]
  },
  {
   "cell_type": "code",
   "execution_count": null,
   "id": "f111387a",
   "metadata": {},
   "outputs": [],
   "source": [
    "# Exemplo: executar seu arquivo app.py diretamente\n",
    "# %run app.py\n",
    "\n",
    "# Ou importar funcões específicas do seu app.py\n",
    "# from app import minha_funcao\n",
    "\n",
    "# Para ver o conteúdo do arquivo\n",
    "with open('app.py', 'r', encoding='utf-8') as arquivo:\n",
    "    conteudo = arquivo.read()\n",
    "    print(\"Conteúdo do app.py:\")\n",
    "    print(conteudo if conteudo.strip() else \"O arquivo está vazio\")"
   ]
  },
  {
   "cell_type": "markdown",
   "id": "fb21bae3",
   "metadata": {},
   "source": [
    "## 5. 🇧🇷 Trabalhando com Dados do Brasil\n",
    "\n",
    "Agora vou mostrar como usar os dados do Brasil que adicionei no seu `app.py`:"
   ]
  },
  {
   "cell_type": "code",
   "execution_count": null,
   "id": "d24e045e",
   "metadata": {},
   "outputs": [],
   "source": [
    "# Executar o arquivo app.py que contém os dados do Brasil\n",
    "%run app.py"
   ]
  },
  {
   "cell_type": "code",
   "execution_count": null,
   "id": "d666403d",
   "metadata": {},
   "outputs": [],
   "source": [
    "# Explorar os dados carregados do Brasil\n",
    "print(\"🔍 EXPLORANDO OS DADOS DO BRASIL\")\n",
    "print(\"=\" * 50)\n",
    "\n",
    "# Verificar variáveis disponíveis\n",
    "print(f\"População total: {brasil_dados['população']:,} habitantes\")\n",
    "print(f\"Área: {brasil_dados['área_km2']:,} km²\")\n",
    "\n",
    "# Calcular densidade populacional\n",
    "densidade = brasil_dados['população'] / brasil_dados['área_km2']\n",
    "print(f\"Densidade populacional: {densidade:.2f} hab/km²\")\n",
    "\n",
    "print(f\"\\nNúmero de estados listados: {len(estados_brasil)}\")\n",
    "print(f\"Número de regiões: {len(populacao_regioes)}\")\n",
    "\n",
    "# Mostrar a região mais populosa\n",
    "regiao_mais_populosa = max(populacao_regioes, key=populacao_regioes.get)\n",
    "print(f\"Região mais populosa: {regiao_mais_populosa} ({populacao_regioes[regiao_mais_populosa]}M hab)\")"
   ]
  },
  {
   "cell_type": "code",
   "execution_count": null,
   "id": "9cc5065f",
   "metadata": {},
   "outputs": [],
   "source": [
    "# Criar visualização dos dados do Brasil\n",
    "import matplotlib.pyplot as plt\n",
    "\n",
    "# Configurar o matplotlib para mostrar gráficos no notebook\n",
    "%matplotlib inline\n",
    "\n",
    "# Criar gráfico da população por região\n",
    "criar_grafico_populacao()"
   ]
  }
 ],
 "metadata": {
  "kernelspec": {
   "display_name": ".venv",
   "language": "python",
   "name": "python3"
  },
  "language_info": {
   "codemirror_mode": {
    "name": "ipython",
    "version": 3
   },
   "file_extension": ".py",
   "mimetype": "text/x-python",
   "name": "python",
   "nbconvert_exporter": "python",
   "pygments_lexer": "ipython3",
   "version": "3.11.9"
  }
 },
 "nbformat": 4,
 "nbformat_minor": 5
}
