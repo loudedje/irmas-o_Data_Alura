{
 "cells": [
  {
   "cell_type": "code",
   "execution_count": 1,
   "id": "031d212c",
   "metadata": {},
   "outputs": [
    {
     "name": "stdout",
     "output_type": "stream",
     "text": [
      "Olá, Jupyter!\n",
      "2 + 3 * 4 = 14\n",
      "Frutas: ['maçã', 'banana', 'laranja']\n"
     ]
    }
   ],
   "source": [
    "# Exemplo básico - Execute esta célula com Shift+Enter\n",
    "print(\"Olá, Jupyter!\")\n",
    "\n",
    "# Operações matemáticas\n",
    "resultado = 2 + 3 * 4\n",
    "print(f\"2 + 3 * 4 = {resultado}\")\n",
    "\n",
    "# Criando uma lista\n",
    "frutas = [\"maçã\", \"banana\", \"laranja\"]\n",
    "print(f\"Frutas: {frutas}\")"
   ]
  }
 ],
 "metadata": {
  "kernelspec": {
   "display_name": ".venv",
   "language": "python",
   "name": "python3"
  },
  "language_info": {
   "codemirror_mode": {
    "name": "ipython",
    "version": 3
   },
   "file_extension": ".py",
   "mimetype": "text/x-python",
   "name": "python",
   "nbconvert_exporter": "python",
   "pygments_lexer": "ipython3",
   "version": "3.11.9"
  }
 },
 "nbformat": 4,
 "nbformat_minor": 5
}
